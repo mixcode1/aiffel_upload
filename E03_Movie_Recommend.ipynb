{
 "cells": [
  {
   "cell_type": "markdown",
   "metadata": {},
   "source": [
    "## 프로젝트 - Movielens 영화 추천 실습\n",
    "MF 모델 학습 방법을 토대로, 내가 좋아할만한 영화 추천 시스템을 제작해 보겠습니다.\n",
    "이번에 활용할 데이터셋은 추천시스템의 MNIST라고 부를만한 Movielens 데이터입니다.\n",
    "\n",
    "- 유저가 영화에 대해 평점을 매긴 데이터가 데이터 크기 별로 있습니다. MovieLens 1M Dataset 사용을 권장합니다.\n",
    "- 별점 데이터는 대표적인 explicit 데이터입니다. 하지만 implicit 데이터로 간주하고 테스트해볼 수 있습니다.\n",
    "- 별점을 시청횟수로 해석해서 생각하겠습니다.\n",
    "- 또한 유저가 3점 미만으로 준 데이터는 선호하지 않는다고 가정하고 제외하겠습니다.\n",
    "\n",
    ">1) wget으로 데이터 다운로드 >> $ wget http://files.grouplens.org/datasets/movielens/ml-1m.zip\n",
    "\n",
    ">2) 다운받은 데이터를 작업디렉토리로 이동\n",
    ">$ mv ml-1m.zip ~/aiffel/recommendata_iu/data\n",
    "\n",
    ">3) gzip으로 압축된 압축을 해제하면 tar 파일이 하나 나옵니다. \n",
    ">$ unzip ml-1m.zip"
   ]
  },
  {
   "cell_type": "markdown",
   "metadata": {},
   "source": [
    "---\n",
    "## 1. 데이터 준비와 전처리\n",
    "Movielens 데이터는 rating.dat 안에 이미 인덱싱까지 완료된 사용자-영화-평점 데이터가 깔끔하게 정리되어 있다."
   ]
  },
  {
   "cell_type": "code",
   "execution_count": 319,
   "metadata": {},
   "outputs": [
    {
     "data": {
      "text/html": [
       "<div>\n",
       "<style scoped>\n",
       "    .dataframe tbody tr th:only-of-type {\n",
       "        vertical-align: middle;\n",
       "    }\n",
       "\n",
       "    .dataframe tbody tr th {\n",
       "        vertical-align: top;\n",
       "    }\n",
       "\n",
       "    .dataframe thead th {\n",
       "        text-align: right;\n",
       "    }\n",
       "</style>\n",
       "<table border=\"1\" class=\"dataframe\">\n",
       "  <thead>\n",
       "    <tr style=\"text-align: right;\">\n",
       "      <th></th>\n",
       "      <th>user_id</th>\n",
       "      <th>movie_id</th>\n",
       "      <th>rating</th>\n",
       "      <th>timestamp</th>\n",
       "    </tr>\n",
       "  </thead>\n",
       "  <tbody>\n",
       "    <tr>\n",
       "      <th>0</th>\n",
       "      <td>1</td>\n",
       "      <td>1193</td>\n",
       "      <td>5</td>\n",
       "      <td>978300760</td>\n",
       "    </tr>\n",
       "    <tr>\n",
       "      <th>1</th>\n",
       "      <td>1</td>\n",
       "      <td>661</td>\n",
       "      <td>3</td>\n",
       "      <td>978302109</td>\n",
       "    </tr>\n",
       "    <tr>\n",
       "      <th>2</th>\n",
       "      <td>1</td>\n",
       "      <td>914</td>\n",
       "      <td>3</td>\n",
       "      <td>978301968</td>\n",
       "    </tr>\n",
       "    <tr>\n",
       "      <th>3</th>\n",
       "      <td>1</td>\n",
       "      <td>3408</td>\n",
       "      <td>4</td>\n",
       "      <td>978300275</td>\n",
       "    </tr>\n",
       "    <tr>\n",
       "      <th>4</th>\n",
       "      <td>1</td>\n",
       "      <td>2355</td>\n",
       "      <td>5</td>\n",
       "      <td>978824291</td>\n",
       "    </tr>\n",
       "  </tbody>\n",
       "</table>\n",
       "</div>"
      ],
      "text/plain": [
       "   user_id  movie_id  rating  timestamp\n",
       "0        1      1193       5  978300760\n",
       "1        1       661       3  978302109\n",
       "2        1       914       3  978301968\n",
       "3        1      3408       4  978300275\n",
       "4        1      2355       5  978824291"
      ]
     },
     "execution_count": 319,
     "metadata": {},
     "output_type": "execute_result"
    }
   ],
   "source": [
    "import os\n",
    "import pandas as pd\n",
    "\n",
    "rating_file_path = os.getenv('HOME') + '/Development/ML/Modu_Lab/recommendata_iu/ml_data/ratings.dat'\n",
    "rating_cols = ['user_id', 'movie_id', 'rating', 'timestamp']\n",
    "ratings = pd.read_csv(rating_file_path, sep='::', names=rating_cols, engine='python')\n",
    "original_data_size = len(ratings)\n",
    "ratings.head()"
   ]
  },
  {
   "cell_type": "code",
   "execution_count": 320,
   "metadata": {},
   "outputs": [
    {
     "name": "stdout",
     "output_type": "stream",
     "text": [
      "original_data_size: 1000209, filtered_data_size: 836478\n",
      "Ratio of Remaining Data is 83.63%\n"
     ]
    }
   ],
   "source": [
    "# 3점 이상만 남깁니다.\n",
    "ratings = ratings[ratings['rating']>=3]\n",
    "filtered_data_size = len(ratings)\n",
    "\n",
    "print(f'original_data_size: {original_data_size}, filtered_data_size: {filtered_data_size}')\n",
    "print(f'Ratio of Remaining Data is {filtered_data_size / original_data_size:.2%}')"
   ]
  },
  {
   "cell_type": "code",
   "execution_count": 321,
   "metadata": {},
   "outputs": [
    {
     "data": {
      "text/html": [
       "<div>\n",
       "<style scoped>\n",
       "    .dataframe tbody tr th:only-of-type {\n",
       "        vertical-align: middle;\n",
       "    }\n",
       "\n",
       "    .dataframe tbody tr th {\n",
       "        vertical-align: top;\n",
       "    }\n",
       "\n",
       "    .dataframe thead th {\n",
       "        text-align: right;\n",
       "    }\n",
       "</style>\n",
       "<table border=\"1\" class=\"dataframe\">\n",
       "  <thead>\n",
       "    <tr style=\"text-align: right;\">\n",
       "      <th></th>\n",
       "      <th>user_id</th>\n",
       "      <th>movie_id</th>\n",
       "      <th>rate</th>\n",
       "      <th>timestamp</th>\n",
       "    </tr>\n",
       "  </thead>\n",
       "  <tbody>\n",
       "    <tr>\n",
       "      <th>0</th>\n",
       "      <td>1</td>\n",
       "      <td>1193</td>\n",
       "      <td>5</td>\n",
       "      <td>978300760</td>\n",
       "    </tr>\n",
       "    <tr>\n",
       "      <th>1</th>\n",
       "      <td>1</td>\n",
       "      <td>661</td>\n",
       "      <td>3</td>\n",
       "      <td>978302109</td>\n",
       "    </tr>\n",
       "    <tr>\n",
       "      <th>2</th>\n",
       "      <td>1</td>\n",
       "      <td>914</td>\n",
       "      <td>3</td>\n",
       "      <td>978301968</td>\n",
       "    </tr>\n",
       "    <tr>\n",
       "      <th>3</th>\n",
       "      <td>1</td>\n",
       "      <td>3408</td>\n",
       "      <td>4</td>\n",
       "      <td>978300275</td>\n",
       "    </tr>\n",
       "    <tr>\n",
       "      <th>4</th>\n",
       "      <td>1</td>\n",
       "      <td>2355</td>\n",
       "      <td>5</td>\n",
       "      <td>978824291</td>\n",
       "    </tr>\n",
       "  </tbody>\n",
       "</table>\n",
       "</div>"
      ],
      "text/plain": [
       "   user_id  movie_id  rate  timestamp\n",
       "0        1      1193     5  978300760\n",
       "1        1       661     3  978302109\n",
       "2        1       914     3  978301968\n",
       "3        1      3408     4  978300275\n",
       "4        1      2355     5  978824291"
      ]
     },
     "execution_count": 321,
     "metadata": {},
     "output_type": "execute_result"
    }
   ],
   "source": [
    "# rating 컬럼의 이름을 rate로 바꿉니다.\n",
    "ratings.rename(columns={'rating':'rate'}, inplace=True)\n",
    "ratings.head()"
   ]
  },
  {
   "cell_type": "code",
   "execution_count": 322,
   "metadata": {},
   "outputs": [
    {
     "data": {
      "text/html": [
       "<div>\n",
       "<style scoped>\n",
       "    .dataframe tbody tr th:only-of-type {\n",
       "        vertical-align: middle;\n",
       "    }\n",
       "\n",
       "    .dataframe tbody tr th {\n",
       "        vertical-align: top;\n",
       "    }\n",
       "\n",
       "    .dataframe thead th {\n",
       "        text-align: right;\n",
       "    }\n",
       "</style>\n",
       "<table border=\"1\" class=\"dataframe\">\n",
       "  <thead>\n",
       "    <tr style=\"text-align: right;\">\n",
       "      <th></th>\n",
       "      <th>movie_id</th>\n",
       "      <th>title</th>\n",
       "      <th>genre</th>\n",
       "    </tr>\n",
       "  </thead>\n",
       "  <tbody>\n",
       "    <tr>\n",
       "      <th>0</th>\n",
       "      <td>1</td>\n",
       "      <td>Toy Story (1995)</td>\n",
       "      <td>Animation|Children's|Comedy</td>\n",
       "    </tr>\n",
       "    <tr>\n",
       "      <th>1</th>\n",
       "      <td>2</td>\n",
       "      <td>Jumanji (1995)</td>\n",
       "      <td>Adventure|Children's|Fantasy</td>\n",
       "    </tr>\n",
       "    <tr>\n",
       "      <th>2</th>\n",
       "      <td>3</td>\n",
       "      <td>Grumpier Old Men (1995)</td>\n",
       "      <td>Comedy|Romance</td>\n",
       "    </tr>\n",
       "    <tr>\n",
       "      <th>3</th>\n",
       "      <td>4</td>\n",
       "      <td>Waiting to Exhale (1995)</td>\n",
       "      <td>Comedy|Drama</td>\n",
       "    </tr>\n",
       "    <tr>\n",
       "      <th>4</th>\n",
       "      <td>5</td>\n",
       "      <td>Father of the Bride Part II (1995)</td>\n",
       "      <td>Comedy</td>\n",
       "    </tr>\n",
       "  </tbody>\n",
       "</table>\n",
       "</div>"
      ],
      "text/plain": [
       "   movie_id                               title                         genre\n",
       "0         1                    Toy Story (1995)   Animation|Children's|Comedy\n",
       "1         2                      Jumanji (1995)  Adventure|Children's|Fantasy\n",
       "2         3             Grumpier Old Men (1995)                Comedy|Romance\n",
       "3         4            Waiting to Exhale (1995)                  Comedy|Drama\n",
       "4         5  Father of the Bride Part II (1995)                        Comedy"
      ]
     },
     "execution_count": 322,
     "metadata": {},
     "output_type": "execute_result"
    }
   ],
   "source": [
    "# 영화 제목을 보기 위해 메타 데이터를 읽어옵니다.\n",
    "movie_file_path = os.getenv('HOME') + '/Development/ML/Modu_Lab/recommendata_iu/ml_data/movies.dat'\n",
    "cols = ['movie_id', 'title', 'genre']\n",
    "movies = pd.read_csv(movie_file_path, sep='::', names=cols, engine='python')\n",
    "movies.head()"
   ]
  },
  {
   "cell_type": "markdown",
   "metadata": {},
   "source": [
    "## 2. EDA\n",
    "- ratings에 있는 유니크한 영화 개수\n",
    "- rating에 있는 유니크한 사용자 수\n",
    "- 가장 인기있는 영화 30개(인기순)"
   ]
  },
  {
   "cell_type": "code",
   "execution_count": 323,
   "metadata": {},
   "outputs": [
    {
     "name": "stdout",
     "output_type": "stream",
     "text": [
      "(836478, 4) (3883, 3)\n"
     ]
    },
    {
     "data": {
      "text/plain": [
       "6039"
      ]
     },
     "execution_count": 323,
     "metadata": {},
     "output_type": "execute_result"
    }
   ],
   "source": [
    "print(ratings.shape, movies.shape)    # 각 데이터 shape 확인\n",
    "ratings['user_id'].nunique()     # unique한 id의 개수"
   ]
  },
  {
   "cell_type": "code",
   "execution_count": 324,
   "metadata": {},
   "outputs": [
    {
     "name": "stdout",
     "output_type": "stream",
     "text": [
      "(836478, 6)\n"
     ]
    },
    {
     "data": {
      "text/html": [
       "<div>\n",
       "<style scoped>\n",
       "    .dataframe tbody tr th:only-of-type {\n",
       "        vertical-align: middle;\n",
       "    }\n",
       "\n",
       "    .dataframe tbody tr th {\n",
       "        vertical-align: top;\n",
       "    }\n",
       "\n",
       "    .dataframe thead th {\n",
       "        text-align: right;\n",
       "    }\n",
       "</style>\n",
       "<table border=\"1\" class=\"dataframe\">\n",
       "  <thead>\n",
       "    <tr style=\"text-align: right;\">\n",
       "      <th></th>\n",
       "      <th>user_id</th>\n",
       "      <th>movie_id</th>\n",
       "      <th>rate</th>\n",
       "      <th>timestamp</th>\n",
       "      <th>title</th>\n",
       "      <th>genre</th>\n",
       "    </tr>\n",
       "  </thead>\n",
       "  <tbody>\n",
       "    <tr>\n",
       "      <th>0</th>\n",
       "      <td>1</td>\n",
       "      <td>1193</td>\n",
       "      <td>5</td>\n",
       "      <td>978300760</td>\n",
       "      <td>One Flew Over the Cuckoo's Nest (1975)</td>\n",
       "      <td>Drama</td>\n",
       "    </tr>\n",
       "    <tr>\n",
       "      <th>1</th>\n",
       "      <td>2</td>\n",
       "      <td>1193</td>\n",
       "      <td>5</td>\n",
       "      <td>978298413</td>\n",
       "      <td>One Flew Over the Cuckoo's Nest (1975)</td>\n",
       "      <td>Drama</td>\n",
       "    </tr>\n",
       "    <tr>\n",
       "      <th>2</th>\n",
       "      <td>12</td>\n",
       "      <td>1193</td>\n",
       "      <td>4</td>\n",
       "      <td>978220179</td>\n",
       "      <td>One Flew Over the Cuckoo's Nest (1975)</td>\n",
       "      <td>Drama</td>\n",
       "    </tr>\n",
       "    <tr>\n",
       "      <th>3</th>\n",
       "      <td>15</td>\n",
       "      <td>1193</td>\n",
       "      <td>4</td>\n",
       "      <td>978199279</td>\n",
       "      <td>One Flew Over the Cuckoo's Nest (1975)</td>\n",
       "      <td>Drama</td>\n",
       "    </tr>\n",
       "    <tr>\n",
       "      <th>4</th>\n",
       "      <td>17</td>\n",
       "      <td>1193</td>\n",
       "      <td>5</td>\n",
       "      <td>978158471</td>\n",
       "      <td>One Flew Over the Cuckoo's Nest (1975)</td>\n",
       "      <td>Drama</td>\n",
       "    </tr>\n",
       "  </tbody>\n",
       "</table>\n",
       "</div>"
      ],
      "text/plain": [
       "   user_id  movie_id  rate  timestamp                                   title  \\\n",
       "0        1      1193     5  978300760  One Flew Over the Cuckoo's Nest (1975)   \n",
       "1        2      1193     5  978298413  One Flew Over the Cuckoo's Nest (1975)   \n",
       "2       12      1193     4  978220179  One Flew Over the Cuckoo's Nest (1975)   \n",
       "3       15      1193     4  978199279  One Flew Over the Cuckoo's Nest (1975)   \n",
       "4       17      1193     5  978158471  One Flew Over the Cuckoo's Nest (1975)   \n",
       "\n",
       "   genre  \n",
       "0  Drama  \n",
       "1  Drama  \n",
       "2  Drama  \n",
       "3  Drama  \n",
       "4  Drama  "
      ]
     },
     "execution_count": 324,
     "metadata": {},
     "output_type": "execute_result"
    }
   ],
   "source": [
    "# ratings와 movies를 합친다.\n",
    "df = pd.merge(ratings, movies, on='movie_id')   # 'movie_id'를 기준으로 merge on 한다.\n",
    "print(df.shape)\n",
    "df.head()"
   ]
  },
  {
   "cell_type": "code",
   "execution_count": 325,
   "metadata": {
    "scrolled": false
   },
   "outputs": [
    {
     "data": {
      "text/plain": [
       "3628"
      ]
     },
     "execution_count": 325,
     "metadata": {},
     "output_type": "execute_result"
    }
   ],
   "source": [
    "# 결측치 확인\n",
    "# df.info()\n",
    "df.isnull().sum()\n",
    "df['title'].nunique()"
   ]
  },
  {
   "cell_type": "code",
   "execution_count": 376,
   "metadata": {
    "scrolled": false
   },
   "outputs": [
    {
     "data": {
      "text/plain": [
       "title\n",
       "American Beauty (1999)                                   3212\n",
       "Star Wars: Episode IV - A New Hope (1977)                2910\n",
       "Star Wars: Episode V - The Empire Strikes Back (1980)    2885\n",
       "Star Wars: Episode VI - Return of the Jedi (1983)        2716\n",
       "Saving Private Ryan (1998)                               2561\n",
       "Terminator 2: Judgment Day (1991)                        2509\n",
       "Silence of the Lambs, The (1991)                         2498\n",
       "Raiders of the Lost Ark (1981)                           2473\n",
       "Back to the Future (1985)                                2460\n",
       "Matrix, The (1999)                                       2434\n",
       "Jurassic Park (1993)                                     2413\n",
       "Sixth Sense, The (1999)                                  2385\n",
       "Fargo (1996)                                             2371\n",
       "Braveheart (1995)                                        2314\n",
       "Men in Black (1997)                                      2297\n",
       "Schindler's List (1993)                                  2257\n",
       "Princess Bride, The (1987)                               2252\n",
       "Shakespeare in Love (1998)                               2213\n",
       "L.A. Confidential (1997)                                 2210\n",
       "Shawshank Redemption, The (1994)                         2194\n",
       "Name: user_id, dtype: int64"
      ]
     },
     "execution_count": 376,
     "metadata": {},
     "output_type": "execute_result"
    }
   ],
   "source": [
    "# 인기 많은 영화 (많은 유저가 본 영화들)\n",
    "# movie_count = df['user_id'].groupby(df['title']).count()\n",
    "movie_count = df.groupby('title')['user_id'].count()\n",
    "movie_count.sort_values(ascending=False).head(20)"
   ]
  },
  {
   "cell_type": "code",
   "execution_count": 327,
   "metadata": {},
   "outputs": [
    {
     "data": {
      "text/html": [
       "<div>\n",
       "<style scoped>\n",
       "    .dataframe tbody tr th:only-of-type {\n",
       "        vertical-align: middle;\n",
       "    }\n",
       "\n",
       "    .dataframe tbody tr th {\n",
       "        vertical-align: top;\n",
       "    }\n",
       "\n",
       "    .dataframe thead th {\n",
       "        text-align: right;\n",
       "    }\n",
       "</style>\n",
       "<table border=\"1\" class=\"dataframe\">\n",
       "  <thead>\n",
       "    <tr style=\"text-align: right;\">\n",
       "      <th></th>\n",
       "      <th>title</th>\n",
       "    </tr>\n",
       "    <tr>\n",
       "      <th>user_id</th>\n",
       "      <th></th>\n",
       "    </tr>\n",
       "  </thead>\n",
       "  <tbody>\n",
       "    <tr>\n",
       "      <th>1</th>\n",
       "      <td>53</td>\n",
       "    </tr>\n",
       "    <tr>\n",
       "      <th>2</th>\n",
       "      <td>116</td>\n",
       "    </tr>\n",
       "    <tr>\n",
       "      <th>3</th>\n",
       "      <td>46</td>\n",
       "    </tr>\n",
       "    <tr>\n",
       "      <th>4</th>\n",
       "      <td>19</td>\n",
       "    </tr>\n",
       "    <tr>\n",
       "      <th>5</th>\n",
       "      <td>143</td>\n",
       "    </tr>\n",
       "    <tr>\n",
       "      <th>...</th>\n",
       "      <td>...</td>\n",
       "    </tr>\n",
       "    <tr>\n",
       "      <th>6036</th>\n",
       "      <td>708</td>\n",
       "    </tr>\n",
       "    <tr>\n",
       "      <th>6037</th>\n",
       "      <td>189</td>\n",
       "    </tr>\n",
       "    <tr>\n",
       "      <th>6038</th>\n",
       "      <td>18</td>\n",
       "    </tr>\n",
       "    <tr>\n",
       "      <th>6039</th>\n",
       "      <td>119</td>\n",
       "    </tr>\n",
       "    <tr>\n",
       "      <th>6040</th>\n",
       "      <td>276</td>\n",
       "    </tr>\n",
       "  </tbody>\n",
       "</table>\n",
       "<p>6039 rows × 1 columns</p>\n",
       "</div>"
      ],
      "text/plain": [
       "         title\n",
       "user_id       \n",
       "1           53\n",
       "2          116\n",
       "3           46\n",
       "4           19\n",
       "5          143\n",
       "...        ...\n",
       "6036       708\n",
       "6037       189\n",
       "6038        18\n",
       "6039       119\n",
       "6040       276\n",
       "\n",
       "[6039 rows x 1 columns]"
      ]
     },
     "execution_count": 327,
     "metadata": {},
     "output_type": "execute_result"
    }
   ],
   "source": [
    "# 유저별 관람 영화 통계 ???\n",
    "user_count = df.groupby('user_id')['title'].count()\n",
    "user_count.to_frame()"
   ]
  },
  {
   "cell_type": "code",
   "execution_count": 328,
   "metadata": {
    "scrolled": false
   },
   "outputs": [
    {
     "data": {
      "text/html": [
       "<div>\n",
       "<style scoped>\n",
       "    .dataframe tbody tr th:only-of-type {\n",
       "        vertical-align: middle;\n",
       "    }\n",
       "\n",
       "    .dataframe tbody tr th {\n",
       "        vertical-align: top;\n",
       "    }\n",
       "\n",
       "    .dataframe thead th {\n",
       "        text-align: right;\n",
       "    }\n",
       "</style>\n",
       "<table border=\"1\" class=\"dataframe\">\n",
       "  <thead>\n",
       "    <tr style=\"text-align: right;\">\n",
       "      <th></th>\n",
       "      <th>user_id</th>\n",
       "      <th>movie_id</th>\n",
       "      <th>rate</th>\n",
       "      <th>timestamp</th>\n",
       "    </tr>\n",
       "    <tr>\n",
       "      <th>title</th>\n",
       "      <th></th>\n",
       "      <th></th>\n",
       "      <th></th>\n",
       "      <th></th>\n",
       "    </tr>\n",
       "  </thead>\n",
       "  <tbody>\n",
       "    <tr>\n",
       "      <th>Ulysses (Ulisse) (1954)</th>\n",
       "      <td>3485.0</td>\n",
       "      <td>3172.0</td>\n",
       "      <td>5.0</td>\n",
       "      <td>967060437.0</td>\n",
       "    </tr>\n",
       "    <tr>\n",
       "      <th>Country Life (1994)</th>\n",
       "      <td>1631.0</td>\n",
       "      <td>687.0</td>\n",
       "      <td>5.0</td>\n",
       "      <td>974725573.0</td>\n",
       "    </tr>\n",
       "    <tr>\n",
       "      <th>Schlafes Bruder (Brother of Sleep) (1995)</th>\n",
       "      <td>1915.0</td>\n",
       "      <td>989.0</td>\n",
       "      <td>5.0</td>\n",
       "      <td>974693867.0</td>\n",
       "    </tr>\n",
       "    <tr>\n",
       "      <th>Foreign Student (1994)</th>\n",
       "      <td>3618.0</td>\n",
       "      <td>572.0</td>\n",
       "      <td>5.0</td>\n",
       "      <td>967120177.0</td>\n",
       "    </tr>\n",
       "    <tr>\n",
       "      <th>Follow the Bitch (1998)</th>\n",
       "      <td>2869.0</td>\n",
       "      <td>1830.0</td>\n",
       "      <td>5.0</td>\n",
       "      <td>972439040.0</td>\n",
       "    </tr>\n",
       "  </tbody>\n",
       "</table>\n",
       "</div>"
      ],
      "text/plain": [
       "                                           user_id  movie_id  rate  \\\n",
       "title                                                                \n",
       "Ulysses (Ulisse) (1954)                     3485.0    3172.0   5.0   \n",
       "Country Life (1994)                         1631.0     687.0   5.0   \n",
       "Schlafes Bruder (Brother of Sleep) (1995)   1915.0     989.0   5.0   \n",
       "Foreign Student (1994)                      3618.0     572.0   5.0   \n",
       "Follow the Bitch (1998)                     2869.0    1830.0   5.0   \n",
       "\n",
       "                                             timestamp  \n",
       "title                                                   \n",
       "Ulysses (Ulisse) (1954)                    967060437.0  \n",
       "Country Life (1994)                        974725573.0  \n",
       "Schlafes Bruder (Brother of Sleep) (1995)  974693867.0  \n",
       "Foreign Student (1994)                     967120177.0  \n",
       "Follow the Bitch (1998)                    972439040.0  "
      ]
     },
     "execution_count": 328,
     "metadata": {},
     "output_type": "execute_result"
    }
   ],
   "source": [
    "# 영화별 평균 평점\n",
    "df.groupby('title').mean().sort_values('rate', ascending=False).head()"
   ]
  },
  {
   "cell_type": "code",
   "execution_count": 329,
   "metadata": {},
   "outputs": [
    {
     "data": {
      "text/plain": [
       "title\n",
       "$1,000,000 Duck (1971)                         26\n",
       "'Night Mother (1986)                           56\n",
       "'Til There Was You (1997)                      27\n",
       "'burbs, The (1989)                            198\n",
       "...And Justice for All (1979)                 185\n",
       "                                             ... \n",
       "Zed & Two Noughts, A (1985)                    24\n",
       "Zero Effect (1998)                            262\n",
       "Zero Kelvin (Kj�rlighetens kj�tere) (1995)      2\n",
       "Zeus and Roxanne (1997)                        12\n",
       "eXistenZ (1999)                               306\n",
       "Name: user_id, Length: 3628, dtype: int64"
      ]
     },
     "execution_count": 329,
     "metadata": {},
     "output_type": "execute_result"
    }
   ],
   "source": [
    "# 영화별 user수 구하기\n",
    "df['user_id'].groupby(df['title']).count()"
   ]
  },
  {
   "cell_type": "code",
   "execution_count": 330,
   "metadata": {},
   "outputs": [
    {
     "data": {
      "text/plain": [
       "array([False, False, False, ..., False, False, False])"
      ]
     },
     "execution_count": 330,
     "metadata": {},
     "output_type": "execute_result"
    }
   ],
   "source": [
    "# user수가 1인 영화 리스트 ???\n",
    "\n",
    "view_count = df.groupby('title')['user_id'].count().sort_values(ascending=False)\n",
    "df.groupby('title')['user_id'].count().values == 1"
   ]
  },
  {
   "cell_type": "markdown",
   "metadata": {},
   "source": [
    "---\n",
    "## 3. Advanced EDA\n",
    "1. user_id: 각 유저별 ID, 총 6,039명\n",
    "2. movie_id: 각 영화별 ID, 총 3,628편\n",
    "3. rate: 영화에 대한 별점, 5~3점 (2점 이하는 제거함)\n",
    "4. timestamp: 시간정보\n",
    "5. title: 각 영화 제목과 년도\n",
    "6. genre: 각 영화의 장르"
   ]
  },
  {
   "cell_type": "code",
   "execution_count": 331,
   "metadata": {},
   "outputs": [
    {
     "name": "stdout",
     "output_type": "stream",
     "text": [
      "user id count:6039 | movie id count:3628 | title count:3628\n",
      "rate type\n",
      "4    348971\n",
      "3    261197\n",
      "5    226310\n",
      "Name: rate, dtype: int64\n"
     ]
    }
   ],
   "source": [
    "user_id_count = df['user_id'].nunique()\n",
    "movie_id_count = df['movie_id'].nunique()\n",
    "title_count = df['title'].nunique()\n",
    "rate_count = df['rate'].value_counts()\n",
    "\n",
    "print(f'user id count:{user_id_count} | movie id count:{movie_id_count} | title count:{title_count}')\n",
    "print('rate type',rate_count, sep='\\n')"
   ]
  },
  {
   "cell_type": "markdown",
   "metadata": {},
   "source": [
    "**인기있는 영화 순위 (평점 X 뷰수)**"
   ]
  },
  {
   "cell_type": "code",
   "execution_count": 332,
   "metadata": {
    "scrolled": true
   },
   "outputs": [
    {
     "data": {
      "text/plain": [
       "title\n",
       "Young Frankenstein (1974)                             17934377742\n",
       "Edward Scissorhands (1990)                            17659350410\n",
       "Rock, The (1996)                                      17645090430\n",
       "High Fidelity (2000)                                  17524866942\n",
       "American Pie (1999)                                   17412451760\n",
       "Green Mile, The (1999)                                17375919288\n",
       "Clueless (1995)                                       17265615780\n",
       "Willy Wonka and the Chocolate Factory (1971)          17086180276\n",
       "Erin Brockovich (2000)                                17073222502\n",
       "Get Shorty (1995)                                     17013470960\n",
       "Apocalypse Now (1979)                                 17012874156\n",
       "Mission: Impossible (1996)                            16816114707\n",
       "Sling Blade (1996)                                    16729229200\n",
       "Fifth Element, The (1997)                             16553508032\n",
       "Star Trek: First Contact (1996)                       16429990500\n",
       "Clockwork Orange, A (1971)                            16381044589\n",
       "Animal House (1978)                                   16380851471\n",
       "Citizen Kane (1941)                                   16256976057\n",
       "Life Is Beautiful (La Vita � bella) (1997)            16058607290\n",
       "Chicken Run (2000)                                    15907565408\n",
       "Predator (1987)                                       15608878019\n",
       "Four Weddings and a Funeral (1994)                    15365361398\n",
       "Full Monty, The (1997)                                15309192361\n",
       "Glory (1989)                                          15280808724\n",
       "Rear Window (1954)                                    15119431440\n",
       "Crying Game, The (1992)                               15055467190\n",
       "Maltese Falcon, The (1941)                            14934338235\n",
       "Platoon (1986)                                        14856533808\n",
       "This Is Spinal Tap (1984)                             14852295744\n",
       "Untouchables, The (1987)                              14827257620\n",
       "Austin Powers: The Spy Who Shagged Me (1999)          14755938696\n",
       "Face/Off (1997)                                       14752732288\n",
       "Sting, The (1973)                                     14642669028\n",
       "M*A*S*H (1970)                                        14525285284\n",
       "Seven (Se7en) (1995)                                  14392341564\n",
       "Gone with the Wind (1939)                             14374768968\n",
       "Talented Mr. Ripley, The (1999)                       14372320960\n",
       "Rushmore (1998)                                       14260049884\n",
       "African Queen, The (1951)                             14180183143\n",
       "Shining, The (1980)                                   14154642775\n",
       "Blazing Saddles (1974)                                14022446130\n",
       "Rocky (1976)                                          13816428704\n",
       "Grosse Pointe Blank (1997)                            13770742846\n",
       "Superman (1978)                                       13539646890\n",
       "South Park: Bigger, Longer and Uncut (1999)           13470227136\n",
       "Run Lola Run (Lola rennt) (1998)                      13364191009\n",
       "Austin Powers: International Man of Mystery (1997)    13301874570\n",
       "Witness (1985)                                        13286365566\n",
       "Bull Durham (1988)                                    13123969434\n",
       "Lion King, The (1994)                                 13053968631\n",
       "dtype: int64"
      ]
     },
     "execution_count": 332,
     "metadata": {},
     "output_type": "execute_result"
    }
   ],
   "source": [
    "# 인기있는 영화 순위 (평점 * 뷰수)\n",
    "sum_rate = df['rate'].groupby(df['title']).sum().sort_values(ascending=False)\n",
    "sum_view = df['user_id'].groupby(df['title']).sum().sort_values(ascending=False)\n",
    "(sum_rate*sum_view).sort_values(ascending=False)[100:150]"
   ]
  },
  {
   "cell_type": "markdown",
   "metadata": {},
   "source": [
    "**view count가 5회 이하인 영화들이 356편이나 있다.**   \n",
    "Q. view수가 적어 학습에 도움이 될까요???"
   ]
  },
  {
   "cell_type": "code",
   "execution_count": 385,
   "metadata": {},
   "outputs": [
    {
     "data": {
      "text/html": [
       "<div>\n",
       "<style scoped>\n",
       "    .dataframe tbody tr th:only-of-type {\n",
       "        vertical-align: middle;\n",
       "    }\n",
       "\n",
       "    .dataframe tbody tr th {\n",
       "        vertical-align: top;\n",
       "    }\n",
       "\n",
       "    .dataframe thead th {\n",
       "        text-align: right;\n",
       "    }\n",
       "</style>\n",
       "<table border=\"1\" class=\"dataframe\">\n",
       "  <thead>\n",
       "    <tr style=\"text-align: right;\">\n",
       "      <th></th>\n",
       "      <th>user_id</th>\n",
       "      <th>movie_id</th>\n",
       "      <th>rate</th>\n",
       "      <th>timestamp</th>\n",
       "      <th>genre</th>\n",
       "    </tr>\n",
       "    <tr>\n",
       "      <th>title</th>\n",
       "      <th></th>\n",
       "      <th></th>\n",
       "      <th></th>\n",
       "      <th></th>\n",
       "      <th></th>\n",
       "    </tr>\n",
       "  </thead>\n",
       "  <tbody>\n",
       "    <tr>\n",
       "      <th>1-900 (1994)</th>\n",
       "      <td>1</td>\n",
       "      <td>1</td>\n",
       "      <td>1</td>\n",
       "      <td>1</td>\n",
       "      <td>1</td>\n",
       "    </tr>\n",
       "    <tr>\n",
       "      <th>24 7: Twenty Four Seven (1997)</th>\n",
       "      <td>5</td>\n",
       "      <td>5</td>\n",
       "      <td>5</td>\n",
       "      <td>5</td>\n",
       "      <td>5</td>\n",
       "    </tr>\n",
       "    <tr>\n",
       "      <th>24-hour Woman (1998)</th>\n",
       "      <td>1</td>\n",
       "      <td>1</td>\n",
       "      <td>1</td>\n",
       "      <td>1</td>\n",
       "      <td>1</td>\n",
       "    </tr>\n",
       "    <tr>\n",
       "      <th>3 Ninjas: High Noon On Mega Mountain (1998)</th>\n",
       "      <td>3</td>\n",
       "      <td>3</td>\n",
       "      <td>3</td>\n",
       "      <td>3</td>\n",
       "      <td>3</td>\n",
       "    </tr>\n",
       "    <tr>\n",
       "      <th>3 Strikes (2000)</th>\n",
       "      <td>3</td>\n",
       "      <td>3</td>\n",
       "      <td>3</td>\n",
       "      <td>3</td>\n",
       "      <td>3</td>\n",
       "    </tr>\n",
       "    <tr>\n",
       "      <th>...</th>\n",
       "      <td>...</td>\n",
       "      <td>...</td>\n",
       "      <td>...</td>\n",
       "      <td>...</td>\n",
       "      <td>...</td>\n",
       "    </tr>\n",
       "    <tr>\n",
       "      <th>Wooden Man's Bride, The (Wu Kui) (1994)</th>\n",
       "      <td>1</td>\n",
       "      <td>1</td>\n",
       "      <td>1</td>\n",
       "      <td>1</td>\n",
       "      <td>1</td>\n",
       "    </tr>\n",
       "    <tr>\n",
       "      <th>Yankee Zulu (1994)</th>\n",
       "      <td>2</td>\n",
       "      <td>2</td>\n",
       "      <td>2</td>\n",
       "      <td>2</td>\n",
       "      <td>2</td>\n",
       "    </tr>\n",
       "    <tr>\n",
       "      <th>Year of the Horse (1997)</th>\n",
       "      <td>3</td>\n",
       "      <td>3</td>\n",
       "      <td>3</td>\n",
       "      <td>3</td>\n",
       "      <td>3</td>\n",
       "    </tr>\n",
       "    <tr>\n",
       "      <th>Zachariah (1971)</th>\n",
       "      <td>1</td>\n",
       "      <td>1</td>\n",
       "      <td>1</td>\n",
       "      <td>1</td>\n",
       "      <td>1</td>\n",
       "    </tr>\n",
       "    <tr>\n",
       "      <th>Zero Kelvin (Kj�rlighetens kj�tere) (1995)</th>\n",
       "      <td>2</td>\n",
       "      <td>2</td>\n",
       "      <td>2</td>\n",
       "      <td>2</td>\n",
       "      <td>2</td>\n",
       "    </tr>\n",
       "  </tbody>\n",
       "</table>\n",
       "<p>356 rows × 5 columns</p>\n",
       "</div>"
      ],
      "text/plain": [
       "                                             user_id  movie_id  rate  \\\n",
       "title                                                                  \n",
       "1-900 (1994)                                       1         1     1   \n",
       "24 7: Twenty Four Seven (1997)                     5         5     5   \n",
       "24-hour Woman (1998)                               1         1     1   \n",
       "3 Ninjas: High Noon On Mega Mountain (1998)        3         3     3   \n",
       "3 Strikes (2000)                                   3         3     3   \n",
       "...                                              ...       ...   ...   \n",
       "Wooden Man's Bride, The (Wu Kui) (1994)            1         1     1   \n",
       "Yankee Zulu (1994)                                 2         2     2   \n",
       "Year of the Horse (1997)                           3         3     3   \n",
       "Zachariah (1971)                                   1         1     1   \n",
       "Zero Kelvin (Kj�rlighetens kj�tere) (1995)         2         2     2   \n",
       "\n",
       "                                             timestamp  genre  \n",
       "title                                                          \n",
       "1-900 (1994)                                         1      1  \n",
       "24 7: Twenty Four Seven (1997)                       5      5  \n",
       "24-hour Woman (1998)                                 1      1  \n",
       "3 Ninjas: High Noon On Mega Mountain (1998)          3      3  \n",
       "3 Strikes (2000)                                     3      3  \n",
       "...                                                ...    ...  \n",
       "Wooden Man's Bride, The (Wu Kui) (1994)              1      1  \n",
       "Yankee Zulu (1994)                                   2      2  \n",
       "Year of the Horse (1997)                             3      3  \n",
       "Zachariah (1971)                                     1      1  \n",
       "Zero Kelvin (Kj�rlighetens kj�tere) (1995)           2      2  \n",
       "\n",
       "[356 rows x 5 columns]"
      ]
     },
     "execution_count": 385,
     "metadata": {},
     "output_type": "execute_result"
    }
   ],
   "source": [
    "view_count = df.groupby('title').count()\n",
    "\n",
    "view_count[view_count['user_id'] < 6]"
   ]
  },
  {
   "cell_type": "markdown",
   "metadata": {},
   "source": [
    "---\n",
    "## 4. my_fav 영화 리스트 추가하기\n",
    "- 'American Beauty (1999)'\n",
    "- 'Pulp Fiction (1994)'\n",
    "- 'High Fidelity (2000)'\n",
    "- 'Seven (Se7en) (1995)'\n",
    "- 'Cool Runnings (1993)'"
   ]
  },
  {
   "cell_type": "code",
   "execution_count": 334,
   "metadata": {
    "scrolled": false
   },
   "outputs": [
    {
     "data": {
      "text/html": [
       "<div>\n",
       "<style scoped>\n",
       "    .dataframe tbody tr th:only-of-type {\n",
       "        vertical-align: middle;\n",
       "    }\n",
       "\n",
       "    .dataframe tbody tr th {\n",
       "        vertical-align: top;\n",
       "    }\n",
       "\n",
       "    .dataframe thead th {\n",
       "        text-align: right;\n",
       "    }\n",
       "</style>\n",
       "<table border=\"1\" class=\"dataframe\">\n",
       "  <thead>\n",
       "    <tr style=\"text-align: right;\">\n",
       "      <th></th>\n",
       "      <th>user_id</th>\n",
       "      <th>title</th>\n",
       "      <th>rate</th>\n",
       "      <th>movie_id</th>\n",
       "      <th>genre</th>\n",
       "    </tr>\n",
       "  </thead>\n",
       "  <tbody>\n",
       "    <tr>\n",
       "      <th>0</th>\n",
       "      <td>jaejun</td>\n",
       "      <td>American Beauty (1999)</td>\n",
       "      <td>5</td>\n",
       "      <td>2858</td>\n",
       "      <td>Comedy|Drama</td>\n",
       "    </tr>\n",
       "    <tr>\n",
       "      <th>1</th>\n",
       "      <td>jaejun</td>\n",
       "      <td>Pulp Fiction (1994)</td>\n",
       "      <td>5</td>\n",
       "      <td>296</td>\n",
       "      <td>Crime|Drama</td>\n",
       "    </tr>\n",
       "    <tr>\n",
       "      <th>2</th>\n",
       "      <td>jaejun</td>\n",
       "      <td>High Fidelity (2000)</td>\n",
       "      <td>4</td>\n",
       "      <td>3481</td>\n",
       "      <td>Comedy</td>\n",
       "    </tr>\n",
       "    <tr>\n",
       "      <th>3</th>\n",
       "      <td>jaejun</td>\n",
       "      <td>Seven (Se7en) (1995)</td>\n",
       "      <td>5</td>\n",
       "      <td>47</td>\n",
       "      <td>Crime|Thriller</td>\n",
       "    </tr>\n",
       "    <tr>\n",
       "      <th>4</th>\n",
       "      <td>jaejun</td>\n",
       "      <td>Cool Runnings (1993)</td>\n",
       "      <td>4</td>\n",
       "      <td>1020</td>\n",
       "      <td>Comedy</td>\n",
       "    </tr>\n",
       "  </tbody>\n",
       "</table>\n",
       "</div>"
      ],
      "text/plain": [
       "  user_id                   title  rate  movie_id           genre\n",
       "0  jaejun  American Beauty (1999)     5      2858    Comedy|Drama\n",
       "1  jaejun     Pulp Fiction (1994)     5       296     Crime|Drama\n",
       "2  jaejun    High Fidelity (2000)     4      3481          Comedy\n",
       "3  jaejun    Seven (Se7en) (1995)     5        47  Crime|Thriller\n",
       "4  jaejun    Cool Runnings (1993)     4      1020          Comedy"
      ]
     },
     "execution_count": 334,
     "metadata": {},
     "output_type": "execute_result"
    }
   ],
   "source": [
    "my_fav = ['American Beauty (1999)','Pulp Fiction (1994)','High Fidelity (2000)','Seven (Se7en) (1995)','Cool Runnings (1993)']\n",
    "my_fav_df = pd.DataFrame({'user_id': ['jaejun']*5, 'title': my_fav, 'rate': [5,5,4,5,4]}).merge(movies, how='left', on='title')\n",
    "\n",
    "my_fav_df"
   ]
  },
  {
   "cell_type": "code",
   "execution_count": 335,
   "metadata": {
    "scrolled": true
   },
   "outputs": [
    {
     "data": {
      "text/html": [
       "<div>\n",
       "<style scoped>\n",
       "    .dataframe tbody tr th:only-of-type {\n",
       "        vertical-align: middle;\n",
       "    }\n",
       "\n",
       "    .dataframe tbody tr th {\n",
       "        vertical-align: top;\n",
       "    }\n",
       "\n",
       "    .dataframe thead th {\n",
       "        text-align: right;\n",
       "    }\n",
       "</style>\n",
       "<table border=\"1\" class=\"dataframe\">\n",
       "  <thead>\n",
       "    <tr style=\"text-align: right;\">\n",
       "      <th></th>\n",
       "      <th>user_id</th>\n",
       "      <th>movie_id</th>\n",
       "      <th>rate</th>\n",
       "      <th>timestamp</th>\n",
       "      <th>title</th>\n",
       "      <th>genre</th>\n",
       "    </tr>\n",
       "  </thead>\n",
       "  <tbody>\n",
       "    <tr>\n",
       "      <th>836473</th>\n",
       "      <td>5851</td>\n",
       "      <td>3607</td>\n",
       "      <td>5</td>\n",
       "      <td>9.577566e+08</td>\n",
       "      <td>One Little Indian (1973)</td>\n",
       "      <td>Comedy|Drama|Western</td>\n",
       "    </tr>\n",
       "    <tr>\n",
       "      <th>836474</th>\n",
       "      <td>5854</td>\n",
       "      <td>3026</td>\n",
       "      <td>4</td>\n",
       "      <td>9.583469e+08</td>\n",
       "      <td>Slaughterhouse (1987)</td>\n",
       "      <td>Horror</td>\n",
       "    </tr>\n",
       "    <tr>\n",
       "      <th>836475</th>\n",
       "      <td>5854</td>\n",
       "      <td>690</td>\n",
       "      <td>3</td>\n",
       "      <td>9.577443e+08</td>\n",
       "      <td>Promise, The (Versprechen, Das) (1994)</td>\n",
       "      <td>Romance</td>\n",
       "    </tr>\n",
       "    <tr>\n",
       "      <th>836476</th>\n",
       "      <td>5938</td>\n",
       "      <td>2909</td>\n",
       "      <td>4</td>\n",
       "      <td>9.572734e+08</td>\n",
       "      <td>Five Wives, Three Secretaries and Me (1998)</td>\n",
       "      <td>Documentary</td>\n",
       "    </tr>\n",
       "    <tr>\n",
       "      <th>836477</th>\n",
       "      <td>5948</td>\n",
       "      <td>1360</td>\n",
       "      <td>5</td>\n",
       "      <td>1.016564e+09</td>\n",
       "      <td>Identification of a Woman (Identificazione di ...</td>\n",
       "      <td>Drama</td>\n",
       "    </tr>\n",
       "    <tr>\n",
       "      <th>0</th>\n",
       "      <td>jaejun</td>\n",
       "      <td>2858</td>\n",
       "      <td>5</td>\n",
       "      <td>NaN</td>\n",
       "      <td>American Beauty (1999)</td>\n",
       "      <td>Comedy|Drama</td>\n",
       "    </tr>\n",
       "    <tr>\n",
       "      <th>1</th>\n",
       "      <td>jaejun</td>\n",
       "      <td>296</td>\n",
       "      <td>5</td>\n",
       "      <td>NaN</td>\n",
       "      <td>Pulp Fiction (1994)</td>\n",
       "      <td>Crime|Drama</td>\n",
       "    </tr>\n",
       "    <tr>\n",
       "      <th>2</th>\n",
       "      <td>jaejun</td>\n",
       "      <td>3481</td>\n",
       "      <td>4</td>\n",
       "      <td>NaN</td>\n",
       "      <td>High Fidelity (2000)</td>\n",
       "      <td>Comedy</td>\n",
       "    </tr>\n",
       "    <tr>\n",
       "      <th>3</th>\n",
       "      <td>jaejun</td>\n",
       "      <td>47</td>\n",
       "      <td>5</td>\n",
       "      <td>NaN</td>\n",
       "      <td>Seven (Se7en) (1995)</td>\n",
       "      <td>Crime|Thriller</td>\n",
       "    </tr>\n",
       "    <tr>\n",
       "      <th>4</th>\n",
       "      <td>jaejun</td>\n",
       "      <td>1020</td>\n",
       "      <td>4</td>\n",
       "      <td>NaN</td>\n",
       "      <td>Cool Runnings (1993)</td>\n",
       "      <td>Comedy</td>\n",
       "    </tr>\n",
       "  </tbody>\n",
       "</table>\n",
       "</div>"
      ],
      "text/plain": [
       "       user_id  movie_id  rate     timestamp  \\\n",
       "836473    5851      3607     5  9.577566e+08   \n",
       "836474    5854      3026     4  9.583469e+08   \n",
       "836475    5854       690     3  9.577443e+08   \n",
       "836476    5938      2909     4  9.572734e+08   \n",
       "836477    5948      1360     5  1.016564e+09   \n",
       "0       jaejun      2858     5           NaN   \n",
       "1       jaejun       296     5           NaN   \n",
       "2       jaejun      3481     4           NaN   \n",
       "3       jaejun        47     5           NaN   \n",
       "4       jaejun      1020     4           NaN   \n",
       "\n",
       "                                                    title  \\\n",
       "836473                           One Little Indian (1973)   \n",
       "836474                              Slaughterhouse (1987)   \n",
       "836475             Promise, The (Versprechen, Das) (1994)   \n",
       "836476        Five Wives, Three Secretaries and Me (1998)   \n",
       "836477  Identification of a Woman (Identificazione di ...   \n",
       "0                                  American Beauty (1999)   \n",
       "1                                     Pulp Fiction (1994)   \n",
       "2                                    High Fidelity (2000)   \n",
       "3                                    Seven (Se7en) (1995)   \n",
       "4                                    Cool Runnings (1993)   \n",
       "\n",
       "                       genre  \n",
       "836473  Comedy|Drama|Western  \n",
       "836474                Horror  \n",
       "836475               Romance  \n",
       "836476           Documentary  \n",
       "836477                 Drama  \n",
       "0               Comedy|Drama  \n",
       "1                Crime|Drama  \n",
       "2                     Comedy  \n",
       "3             Crime|Thriller  \n",
       "4                     Comedy  "
      ]
     },
     "execution_count": 335,
     "metadata": {},
     "output_type": "execute_result"
    }
   ],
   "source": [
    "if not df.isin({'user_id':['jaejun']})['user_id'].any():\n",
    "    df = df.append(my_fav_df)\n",
    "\n",
    "df.tail(10)"
   ]
  },
  {
   "cell_type": "markdown",
   "metadata": {},
   "source": [
    "**timestamp는 별 상관이 없으므로 삭제**"
   ]
  },
  {
   "cell_type": "code",
   "execution_count": 336,
   "metadata": {
    "scrolled": false
   },
   "outputs": [
    {
     "data": {
      "text/html": [
       "<div>\n",
       "<style scoped>\n",
       "    .dataframe tbody tr th:only-of-type {\n",
       "        vertical-align: middle;\n",
       "    }\n",
       "\n",
       "    .dataframe tbody tr th {\n",
       "        vertical-align: top;\n",
       "    }\n",
       "\n",
       "    .dataframe thead th {\n",
       "        text-align: right;\n",
       "    }\n",
       "</style>\n",
       "<table border=\"1\" class=\"dataframe\">\n",
       "  <thead>\n",
       "    <tr style=\"text-align: right;\">\n",
       "      <th></th>\n",
       "      <th>user_id</th>\n",
       "      <th>movie_id</th>\n",
       "      <th>rate</th>\n",
       "      <th>title</th>\n",
       "      <th>genre</th>\n",
       "    </tr>\n",
       "  </thead>\n",
       "  <tbody>\n",
       "    <tr>\n",
       "      <th>836473</th>\n",
       "      <td>5851</td>\n",
       "      <td>3607</td>\n",
       "      <td>5</td>\n",
       "      <td>One Little Indian (1973)</td>\n",
       "      <td>Comedy|Drama|Western</td>\n",
       "    </tr>\n",
       "    <tr>\n",
       "      <th>836474</th>\n",
       "      <td>5854</td>\n",
       "      <td>3026</td>\n",
       "      <td>4</td>\n",
       "      <td>Slaughterhouse (1987)</td>\n",
       "      <td>Horror</td>\n",
       "    </tr>\n",
       "    <tr>\n",
       "      <th>836475</th>\n",
       "      <td>5854</td>\n",
       "      <td>690</td>\n",
       "      <td>3</td>\n",
       "      <td>Promise, The (Versprechen, Das) (1994)</td>\n",
       "      <td>Romance</td>\n",
       "    </tr>\n",
       "    <tr>\n",
       "      <th>836476</th>\n",
       "      <td>5938</td>\n",
       "      <td>2909</td>\n",
       "      <td>4</td>\n",
       "      <td>Five Wives, Three Secretaries and Me (1998)</td>\n",
       "      <td>Documentary</td>\n",
       "    </tr>\n",
       "    <tr>\n",
       "      <th>836477</th>\n",
       "      <td>5948</td>\n",
       "      <td>1360</td>\n",
       "      <td>5</td>\n",
       "      <td>Identification of a Woman (Identificazione di ...</td>\n",
       "      <td>Drama</td>\n",
       "    </tr>\n",
       "    <tr>\n",
       "      <th>0</th>\n",
       "      <td>jaejun</td>\n",
       "      <td>2858</td>\n",
       "      <td>5</td>\n",
       "      <td>American Beauty (1999)</td>\n",
       "      <td>Comedy|Drama</td>\n",
       "    </tr>\n",
       "    <tr>\n",
       "      <th>1</th>\n",
       "      <td>jaejun</td>\n",
       "      <td>296</td>\n",
       "      <td>5</td>\n",
       "      <td>Pulp Fiction (1994)</td>\n",
       "      <td>Crime|Drama</td>\n",
       "    </tr>\n",
       "    <tr>\n",
       "      <th>2</th>\n",
       "      <td>jaejun</td>\n",
       "      <td>3481</td>\n",
       "      <td>4</td>\n",
       "      <td>High Fidelity (2000)</td>\n",
       "      <td>Comedy</td>\n",
       "    </tr>\n",
       "    <tr>\n",
       "      <th>3</th>\n",
       "      <td>jaejun</td>\n",
       "      <td>47</td>\n",
       "      <td>5</td>\n",
       "      <td>Seven (Se7en) (1995)</td>\n",
       "      <td>Crime|Thriller</td>\n",
       "    </tr>\n",
       "    <tr>\n",
       "      <th>4</th>\n",
       "      <td>jaejun</td>\n",
       "      <td>1020</td>\n",
       "      <td>4</td>\n",
       "      <td>Cool Runnings (1993)</td>\n",
       "      <td>Comedy</td>\n",
       "    </tr>\n",
       "  </tbody>\n",
       "</table>\n",
       "</div>"
      ],
      "text/plain": [
       "       user_id  movie_id  rate  \\\n",
       "836473    5851      3607     5   \n",
       "836474    5854      3026     4   \n",
       "836475    5854       690     3   \n",
       "836476    5938      2909     4   \n",
       "836477    5948      1360     5   \n",
       "0       jaejun      2858     5   \n",
       "1       jaejun       296     5   \n",
       "2       jaejun      3481     4   \n",
       "3       jaejun        47     5   \n",
       "4       jaejun      1020     4   \n",
       "\n",
       "                                                    title  \\\n",
       "836473                           One Little Indian (1973)   \n",
       "836474                              Slaughterhouse (1987)   \n",
       "836475             Promise, The (Versprechen, Das) (1994)   \n",
       "836476        Five Wives, Three Secretaries and Me (1998)   \n",
       "836477  Identification of a Woman (Identificazione di ...   \n",
       "0                                  American Beauty (1999)   \n",
       "1                                     Pulp Fiction (1994)   \n",
       "2                                    High Fidelity (2000)   \n",
       "3                                    Seven (Se7en) (1995)   \n",
       "4                                    Cool Runnings (1993)   \n",
       "\n",
       "                       genre  \n",
       "836473  Comedy|Drama|Western  \n",
       "836474                Horror  \n",
       "836475               Romance  \n",
       "836476           Documentary  \n",
       "836477                 Drama  \n",
       "0               Comedy|Drama  \n",
       "1                Crime|Drama  \n",
       "2                     Comedy  \n",
       "3             Crime|Thriller  \n",
       "4                     Comedy  "
      ]
     },
     "execution_count": 336,
     "metadata": {},
     "output_type": "execute_result"
    }
   ],
   "source": [
    "df_drop = df.drop(['timestamp'], axis=1)\n",
    "df_drop.tail(10)"
   ]
  },
  {
   "cell_type": "code",
   "execution_count": 337,
   "metadata": {},
   "outputs": [
    {
     "data": {
      "image/png": "[encoded data removed]",
      "text/plain": [
       "<Figure size 864x360 with 1 Axes>"
      ]
     },
     "metadata": {
      "image/png": {
       "height": 321,
       "width": 721
      },
      "needs_background": "light"
     },
     "output_type": "display_data"
    }
   ],
   "source": [
    "# timestamp와 rate의 관계 그래프\n",
    "import matplotlib.pyplot as plt\n",
    "import numpy as np\n",
    "import seaborn as sns\n",
    "\n",
    "sns.set_style(\"whitegrid\")\n",
    "%config InlineBackend.figure_format = 'retina'\n",
    "%matplotlib inline\n",
    "\n",
    "fig, ax = plt.subplots(figsize=(12, 5))\n",
    "sns.kdeplot(data=df, x='timestamp', hue='rate', log_scale=True, multiple='stack', palette='flare')\n",
    "plt.show()"
   ]
  },
  {
   "cell_type": "markdown",
   "metadata": {},
   "source": [
    "---\n",
    "## 5.CSR Matrix"
   ]
  },
  {
   "cell_type": "code",
   "execution_count": 338,
   "metadata": {},
   "outputs": [
    {
     "data": {
      "text/html": [
       "<div>\n",
       "<style scoped>\n",
       "    .dataframe tbody tr th:only-of-type {\n",
       "        vertical-align: middle;\n",
       "    }\n",
       "\n",
       "    .dataframe tbody tr th {\n",
       "        vertical-align: top;\n",
       "    }\n",
       "\n",
       "    .dataframe thead th {\n",
       "        text-align: right;\n",
       "    }\n",
       "</style>\n",
       "<table border=\"1\" class=\"dataframe\">\n",
       "  <thead>\n",
       "    <tr style=\"text-align: right;\">\n",
       "      <th></th>\n",
       "      <th>user_id</th>\n",
       "      <th>movie_id</th>\n",
       "      <th>rate</th>\n",
       "      <th>timestamp</th>\n",
       "      <th>title</th>\n",
       "      <th>genre</th>\n",
       "    </tr>\n",
       "  </thead>\n",
       "  <tbody>\n",
       "    <tr>\n",
       "      <th>0</th>\n",
       "      <td>1</td>\n",
       "      <td>1193</td>\n",
       "      <td>5</td>\n",
       "      <td>978300760.0</td>\n",
       "      <td>One Flew Over the Cuckoo's Nest (1975)</td>\n",
       "      <td>Drama</td>\n",
       "    </tr>\n",
       "    <tr>\n",
       "      <th>1</th>\n",
       "      <td>2</td>\n",
       "      <td>1193</td>\n",
       "      <td>5</td>\n",
       "      <td>978298413.0</td>\n",
       "      <td>One Flew Over the Cuckoo's Nest (1975)</td>\n",
       "      <td>Drama</td>\n",
       "    </tr>\n",
       "    <tr>\n",
       "      <th>2</th>\n",
       "      <td>12</td>\n",
       "      <td>1193</td>\n",
       "      <td>4</td>\n",
       "      <td>978220179.0</td>\n",
       "      <td>One Flew Over the Cuckoo's Nest (1975)</td>\n",
       "      <td>Drama</td>\n",
       "    </tr>\n",
       "    <tr>\n",
       "      <th>3</th>\n",
       "      <td>15</td>\n",
       "      <td>1193</td>\n",
       "      <td>4</td>\n",
       "      <td>978199279.0</td>\n",
       "      <td>One Flew Over the Cuckoo's Nest (1975)</td>\n",
       "      <td>Drama</td>\n",
       "    </tr>\n",
       "    <tr>\n",
       "      <th>4</th>\n",
       "      <td>17</td>\n",
       "      <td>1193</td>\n",
       "      <td>5</td>\n",
       "      <td>978158471.0</td>\n",
       "      <td>One Flew Over the Cuckoo's Nest (1975)</td>\n",
       "      <td>Drama</td>\n",
       "    </tr>\n",
       "  </tbody>\n",
       "</table>\n",
       "</div>"
      ],
      "text/plain": [
       "  user_id  movie_id  rate    timestamp  \\\n",
       "0       1      1193     5  978300760.0   \n",
       "1       2      1193     5  978298413.0   \n",
       "2      12      1193     4  978220179.0   \n",
       "3      15      1193     4  978199279.0   \n",
       "4      17      1193     5  978158471.0   \n",
       "\n",
       "                                    title  genre  \n",
       "0  One Flew Over the Cuckoo's Nest (1975)  Drama  \n",
       "1  One Flew Over the Cuckoo's Nest (1975)  Drama  \n",
       "2  One Flew Over the Cuckoo's Nest (1975)  Drama  \n",
       "3  One Flew Over the Cuckoo's Nest (1975)  Drama  \n",
       "4  One Flew Over the Cuckoo's Nest (1975)  Drama  "
      ]
     },
     "execution_count": 338,
     "metadata": {},
     "output_type": "execute_result"
    }
   ],
   "source": [
    "df.head()"
   ]
  },
  {
   "cell_type": "code",
   "execution_count": 339,
   "metadata": {
    "scrolled": true
   },
   "outputs": [],
   "source": [
    "user_to_idx = {v:k for k,v in enumerate(df['user_id'].unique())}\n",
    "movie_to_idx = {v:k for k,v in enumerate(df['movie_id'].unique())}\n",
    "title_to_idx = {v:k for k,v in enumerate(df['title'].unique())}"
   ]
  },
  {
   "cell_type": "code",
   "execution_count": 340,
   "metadata": {},
   "outputs": [
    {
     "data": {
      "text/plain": [
       "6039"
      ]
     },
     "execution_count": 340,
     "metadata": {},
     "output_type": "execute_result"
    }
   ],
   "source": [
    "user_to_idx['jaejun']"
   ]
  },
  {
   "cell_type": "code",
   "execution_count": 341,
   "metadata": {},
   "outputs": [],
   "source": [
    "def data_indexing():\n",
    "    temp_user_data = df['user_id'].map(user_to_idx.get).dropna()\n",
    "    if len(temp_user_data) == len(df):\n",
    "        print('user_id column indexing OK!!')\n",
    "        df['user_id'] = temp_user_data\n",
    "    else:\n",
    "        print('user_id column indexing Fail!!')\n",
    "\n",
    "    temp_movie_data = df['movie_id'].map(movie_to_idx.get).dropna()\n",
    "    if len(temp_movie_data) == len(df):\n",
    "        print('movie column indexing OK!! \\n')\n",
    "        df['movie_id'] = temp_movie_data\n",
    "    else:\n",
    "        print('movie column indexing Fail!! \\n')\n",
    "        "
   ]
  },
  {
   "cell_type": "code",
   "execution_count": 342,
   "metadata": {},
   "outputs": [
    {
     "data": {
      "text/html": [
       "<div>\n",
       "<style scoped>\n",
       "    .dataframe tbody tr th:only-of-type {\n",
       "        vertical-align: middle;\n",
       "    }\n",
       "\n",
       "    .dataframe tbody tr th {\n",
       "        vertical-align: top;\n",
       "    }\n",
       "\n",
       "    .dataframe thead th {\n",
       "        text-align: right;\n",
       "    }\n",
       "</style>\n",
       "<table border=\"1\" class=\"dataframe\">\n",
       "  <thead>\n",
       "    <tr style=\"text-align: right;\">\n",
       "      <th></th>\n",
       "      <th>user_id</th>\n",
       "      <th>movie_id</th>\n",
       "      <th>rate</th>\n",
       "      <th>timestamp</th>\n",
       "      <th>title</th>\n",
       "      <th>genre</th>\n",
       "    </tr>\n",
       "  </thead>\n",
       "  <tbody>\n",
       "    <tr>\n",
       "      <th>0</th>\n",
       "      <td>1</td>\n",
       "      <td>1193</td>\n",
       "      <td>5</td>\n",
       "      <td>978300760.0</td>\n",
       "      <td>One Flew Over the Cuckoo's Nest (1975)</td>\n",
       "      <td>Drama</td>\n",
       "    </tr>\n",
       "    <tr>\n",
       "      <th>1</th>\n",
       "      <td>2</td>\n",
       "      <td>1193</td>\n",
       "      <td>5</td>\n",
       "      <td>978298413.0</td>\n",
       "      <td>One Flew Over the Cuckoo's Nest (1975)</td>\n",
       "      <td>Drama</td>\n",
       "    </tr>\n",
       "    <tr>\n",
       "      <th>2</th>\n",
       "      <td>12</td>\n",
       "      <td>1193</td>\n",
       "      <td>4</td>\n",
       "      <td>978220179.0</td>\n",
       "      <td>One Flew Over the Cuckoo's Nest (1975)</td>\n",
       "      <td>Drama</td>\n",
       "    </tr>\n",
       "    <tr>\n",
       "      <th>3</th>\n",
       "      <td>15</td>\n",
       "      <td>1193</td>\n",
       "      <td>4</td>\n",
       "      <td>978199279.0</td>\n",
       "      <td>One Flew Over the Cuckoo's Nest (1975)</td>\n",
       "      <td>Drama</td>\n",
       "    </tr>\n",
       "    <tr>\n",
       "      <th>4</th>\n",
       "      <td>17</td>\n",
       "      <td>1193</td>\n",
       "      <td>5</td>\n",
       "      <td>978158471.0</td>\n",
       "      <td>One Flew Over the Cuckoo's Nest (1975)</td>\n",
       "      <td>Drama</td>\n",
       "    </tr>\n",
       "    <tr>\n",
       "      <th>...</th>\n",
       "      <td>...</td>\n",
       "      <td>...</td>\n",
       "      <td>...</td>\n",
       "      <td>...</td>\n",
       "      <td>...</td>\n",
       "      <td>...</td>\n",
       "    </tr>\n",
       "    <tr>\n",
       "      <th>0</th>\n",
       "      <td>jaejun</td>\n",
       "      <td>2858</td>\n",
       "      <td>5</td>\n",
       "      <td>NaN</td>\n",
       "      <td>American Beauty (1999)</td>\n",
       "      <td>Comedy|Drama</td>\n",
       "    </tr>\n",
       "    <tr>\n",
       "      <th>1</th>\n",
       "      <td>jaejun</td>\n",
       "      <td>296</td>\n",
       "      <td>5</td>\n",
       "      <td>NaN</td>\n",
       "      <td>Pulp Fiction (1994)</td>\n",
       "      <td>Crime|Drama</td>\n",
       "    </tr>\n",
       "    <tr>\n",
       "      <th>2</th>\n",
       "      <td>jaejun</td>\n",
       "      <td>3481</td>\n",
       "      <td>4</td>\n",
       "      <td>NaN</td>\n",
       "      <td>High Fidelity (2000)</td>\n",
       "      <td>Comedy</td>\n",
       "    </tr>\n",
       "    <tr>\n",
       "      <th>3</th>\n",
       "      <td>jaejun</td>\n",
       "      <td>47</td>\n",
       "      <td>5</td>\n",
       "      <td>NaN</td>\n",
       "      <td>Seven (Se7en) (1995)</td>\n",
       "      <td>Crime|Thriller</td>\n",
       "    </tr>\n",
       "    <tr>\n",
       "      <th>4</th>\n",
       "      <td>jaejun</td>\n",
       "      <td>1020</td>\n",
       "      <td>4</td>\n",
       "      <td>NaN</td>\n",
       "      <td>Cool Runnings (1993)</td>\n",
       "      <td>Comedy</td>\n",
       "    </tr>\n",
       "  </tbody>\n",
       "</table>\n",
       "<p>836483 rows × 6 columns</p>\n",
       "</div>"
      ],
      "text/plain": [
       "   user_id  movie_id  rate    timestamp  \\\n",
       "0        1      1193     5  978300760.0   \n",
       "1        2      1193     5  978298413.0   \n",
       "2       12      1193     4  978220179.0   \n",
       "3       15      1193     4  978199279.0   \n",
       "4       17      1193     5  978158471.0   \n",
       "..     ...       ...   ...          ...   \n",
       "0   jaejun      2858     5          NaN   \n",
       "1   jaejun       296     5          NaN   \n",
       "2   jaejun      3481     4          NaN   \n",
       "3   jaejun        47     5          NaN   \n",
       "4   jaejun      1020     4          NaN   \n",
       "\n",
       "                                     title           genre  \n",
       "0   One Flew Over the Cuckoo's Nest (1975)           Drama  \n",
       "1   One Flew Over the Cuckoo's Nest (1975)           Drama  \n",
       "2   One Flew Over the Cuckoo's Nest (1975)           Drama  \n",
       "3   One Flew Over the Cuckoo's Nest (1975)           Drama  \n",
       "4   One Flew Over the Cuckoo's Nest (1975)           Drama  \n",
       "..                                     ...             ...  \n",
       "0                   American Beauty (1999)    Comedy|Drama  \n",
       "1                      Pulp Fiction (1994)     Crime|Drama  \n",
       "2                     High Fidelity (2000)          Comedy  \n",
       "3                     Seven (Se7en) (1995)  Crime|Thriller  \n",
       "4                     Cool Runnings (1993)          Comedy  \n",
       "\n",
       "[836483 rows x 6 columns]"
      ]
     },
     "metadata": {},
     "output_type": "display_data"
    },
    {
     "name": "stdout",
     "output_type": "stream",
     "text": [
      "user_id column indexing OK!!\n",
      "movie column indexing OK!! \n",
      "\n"
     ]
    },
    {
     "data": {
      "text/html": [
       "<div>\n",
       "<style scoped>\n",
       "    .dataframe tbody tr th:only-of-type {\n",
       "        vertical-align: middle;\n",
       "    }\n",
       "\n",
       "    .dataframe tbody tr th {\n",
       "        vertical-align: top;\n",
       "    }\n",
       "\n",
       "    .dataframe thead th {\n",
       "        text-align: right;\n",
       "    }\n",
       "</style>\n",
       "<table border=\"1\" class=\"dataframe\">\n",
       "  <thead>\n",
       "    <tr style=\"text-align: right;\">\n",
       "      <th></th>\n",
       "      <th>user_id</th>\n",
       "      <th>movie_id</th>\n",
       "      <th>rate</th>\n",
       "      <th>timestamp</th>\n",
       "      <th>title</th>\n",
       "      <th>genre</th>\n",
       "    </tr>\n",
       "  </thead>\n",
       "  <tbody>\n",
       "    <tr>\n",
       "      <th>0</th>\n",
       "      <td>0</td>\n",
       "      <td>0</td>\n",
       "      <td>5</td>\n",
       "      <td>978300760.0</td>\n",
       "      <td>One Flew Over the Cuckoo's Nest (1975)</td>\n",
       "      <td>Drama</td>\n",
       "    </tr>\n",
       "    <tr>\n",
       "      <th>1</th>\n",
       "      <td>1</td>\n",
       "      <td>0</td>\n",
       "      <td>5</td>\n",
       "      <td>978298413.0</td>\n",
       "      <td>One Flew Over the Cuckoo's Nest (1975)</td>\n",
       "      <td>Drama</td>\n",
       "    </tr>\n",
       "    <tr>\n",
       "      <th>2</th>\n",
       "      <td>2</td>\n",
       "      <td>0</td>\n",
       "      <td>4</td>\n",
       "      <td>978220179.0</td>\n",
       "      <td>One Flew Over the Cuckoo's Nest (1975)</td>\n",
       "      <td>Drama</td>\n",
       "    </tr>\n",
       "    <tr>\n",
       "      <th>3</th>\n",
       "      <td>3</td>\n",
       "      <td>0</td>\n",
       "      <td>4</td>\n",
       "      <td>978199279.0</td>\n",
       "      <td>One Flew Over the Cuckoo's Nest (1975)</td>\n",
       "      <td>Drama</td>\n",
       "    </tr>\n",
       "    <tr>\n",
       "      <th>4</th>\n",
       "      <td>4</td>\n",
       "      <td>0</td>\n",
       "      <td>5</td>\n",
       "      <td>978158471.0</td>\n",
       "      <td>One Flew Over the Cuckoo's Nest (1975)</td>\n",
       "      <td>Drama</td>\n",
       "    </tr>\n",
       "    <tr>\n",
       "      <th>...</th>\n",
       "      <td>...</td>\n",
       "      <td>...</td>\n",
       "      <td>...</td>\n",
       "      <td>...</td>\n",
       "      <td>...</td>\n",
       "      <td>...</td>\n",
       "    </tr>\n",
       "    <tr>\n",
       "      <th>0</th>\n",
       "      <td>6039</td>\n",
       "      <td>99</td>\n",
       "      <td>5</td>\n",
       "      <td>NaN</td>\n",
       "      <td>American Beauty (1999)</td>\n",
       "      <td>Comedy|Drama</td>\n",
       "    </tr>\n",
       "    <tr>\n",
       "      <th>1</th>\n",
       "      <td>6039</td>\n",
       "      <td>222</td>\n",
       "      <td>5</td>\n",
       "      <td>NaN</td>\n",
       "      <td>Pulp Fiction (1994)</td>\n",
       "      <td>Crime|Drama</td>\n",
       "    </tr>\n",
       "    <tr>\n",
       "      <th>2</th>\n",
       "      <td>6039</td>\n",
       "      <td>444</td>\n",
       "      <td>4</td>\n",
       "      <td>NaN</td>\n",
       "      <td>High Fidelity (2000)</td>\n",
       "      <td>Comedy</td>\n",
       "    </tr>\n",
       "    <tr>\n",
       "      <th>3</th>\n",
       "      <td>6039</td>\n",
       "      <td>220</td>\n",
       "      <td>5</td>\n",
       "      <td>NaN</td>\n",
       "      <td>Seven (Se7en) (1995)</td>\n",
       "      <td>Crime|Thriller</td>\n",
       "    </tr>\n",
       "    <tr>\n",
       "      <th>4</th>\n",
       "      <td>6039</td>\n",
       "      <td>605</td>\n",
       "      <td>4</td>\n",
       "      <td>NaN</td>\n",
       "      <td>Cool Runnings (1993)</td>\n",
       "      <td>Comedy</td>\n",
       "    </tr>\n",
       "  </tbody>\n",
       "</table>\n",
       "<p>836483 rows × 6 columns</p>\n",
       "</div>"
      ],
      "text/plain": [
       "    user_id  movie_id  rate    timestamp  \\\n",
       "0         0         0     5  978300760.0   \n",
       "1         1         0     5  978298413.0   \n",
       "2         2         0     4  978220179.0   \n",
       "3         3         0     4  978199279.0   \n",
       "4         4         0     5  978158471.0   \n",
       "..      ...       ...   ...          ...   \n",
       "0      6039        99     5          NaN   \n",
       "1      6039       222     5          NaN   \n",
       "2      6039       444     4          NaN   \n",
       "3      6039       220     5          NaN   \n",
       "4      6039       605     4          NaN   \n",
       "\n",
       "                                     title           genre  \n",
       "0   One Flew Over the Cuckoo's Nest (1975)           Drama  \n",
       "1   One Flew Over the Cuckoo's Nest (1975)           Drama  \n",
       "2   One Flew Over the Cuckoo's Nest (1975)           Drama  \n",
       "3   One Flew Over the Cuckoo's Nest (1975)           Drama  \n",
       "4   One Flew Over the Cuckoo's Nest (1975)           Drama  \n",
       "..                                     ...             ...  \n",
       "0                   American Beauty (1999)    Comedy|Drama  \n",
       "1                      Pulp Fiction (1994)     Crime|Drama  \n",
       "2                     High Fidelity (2000)          Comedy  \n",
       "3                     Seven (Se7en) (1995)  Crime|Thriller  \n",
       "4                     Cool Runnings (1993)          Comedy  \n",
       "\n",
       "[836483 rows x 6 columns]"
      ]
     },
     "metadata": {},
     "output_type": "display_data"
    }
   ],
   "source": [
    "display(df)\n",
    "\n",
    "data_indexing()\n",
    "\n",
    "display(df)"
   ]
  },
  {
   "cell_type": "code",
   "execution_count": 354,
   "metadata": {
    "scrolled": true
   },
   "outputs": [
    {
     "name": "stdout",
     "output_type": "stream",
     "text": [
      "(6040, 3628)\n",
      "  (0, 0)\t5\n",
      "  (0, 1)\t3\n",
      "  (0, 2)\t3\n",
      "  (0, 3)\t4\n",
      "  (0, 4)\t5\n",
      "  (0, 5)\t3\n",
      "  (0, 6)\t5\n",
      "  (0, 7)\t5\n",
      "  (0, 8)\t4\n",
      "  (0, 9)\t4\n",
      "  (0, 10)\t5\n",
      "  (0, 11)\t4\n",
      "  (0, 12)\t4\n",
      "  (0, 13)\t4\n",
      "  (0, 14)\t5\n",
      "  (0, 15)\t4\n",
      "  (0, 16)\t3\n",
      "  (0, 17)\t4\n",
      "  (0, 18)\t5\n",
      "  (0, 19)\t4\n",
      "  (0, 20)\t3\n",
      "  (0, 21)\t3\n",
      "  (0, 22)\t5\n",
      "  (0, 23)\t5\n",
      "  (0, 24)\t3\n",
      "  :\t:\n",
      "  (6036, 1615)\t5\n",
      "  (6036, 1616)\t5\n",
      "  (6037, 726)\t5\n",
      "  (6037, 835)\t4\n",
      "  (6037, 913)\t4\n",
      "  (6037, 990)\t5\n",
      "  (6037, 997)\t4\n",
      "  (6037, 999)\t5\n",
      "  (6037, 1022)\t5\n",
      "  (6037, 1028)\t5\n",
      "  (6037, 1087)\t5\n",
      "  (6037, 1194)\t4\n",
      "  (6037, 1358)\t3\n",
      "  (6037, 1596)\t5\n",
      "  (6037, 1602)\t5\n",
      "  (6037, 1608)\t5\n",
      "  (6037, 1782)\t3\n",
      "  (6037, 2158)\t3\n",
      "  (6037, 3512)\t3\n",
      "  (6038, 2947)\t3\n",
      "  (6039, 99)\t5\n",
      "  (6039, 220)\t5\n",
      "  (6039, 222)\t5\n",
      "  (6039, 444)\t4\n",
      "  (6039, 605)\t4\n"
     ]
    }
   ],
   "source": [
    "from scipy.sparse import csr_matrix\n",
    "\n",
    "csr_data = csr_matrix((df.rate, (df.user_id, df.movie_id)), \n",
    "                      shape=(df['user_id'].nunique(), df['movie_id'].nunique()))\n",
    "print(csr_data.shape)\n",
    "print(csr_data)"
   ]
  },
  {
   "cell_type": "markdown",
   "metadata": {},
   "source": [
    "## 6. MF모델 학습"
   ]
  },
  {
   "cell_type": "code",
   "execution_count": 355,
   "metadata": {},
   "outputs": [],
   "source": [
    "from implicit.als import AlternatingLeastSquares\n",
    "import os\n",
    "import numpy as np\n",
    "\n",
    "os.environ['OPENBLAS_NUM_THREADS']='1'\n",
    "os.environ['KMP_DUPLICATE_LIB_OK']='True'\n",
    "os.environ['MKL_NUM_THREADS']='1'"
   ]
  },
  {
   "cell_type": "code",
   "execution_count": 356,
   "metadata": {},
   "outputs": [
    {
     "data": {
      "text/plain": [
       "<3628x6040 sparse matrix of type '<class 'numpy.int64'>'\n",
       "\twith 836483 stored elements in Compressed Sparse Column format>"
      ]
     },
     "execution_count": 356,
     "metadata": {},
     "output_type": "execute_result"
    }
   ],
   "source": [
    "als_model = AlternatingLeastSquares(factors=100, regularization=0.01, use_gpu=False, iterations=15, dtype=np.float32)\n",
    "csr_data_transpose = csr_data.T\n",
    "csr_data_transpose\n"
   ]
  },
  {
   "cell_type": "code",
   "execution_count": 357,
   "metadata": {},
   "outputs": [
    {
     "data": {
      "application/vnd.jupyter.widget-view+json": {
       "model_id": "1777b1a174534e1587e084623895ee86",
       "version_major": 2,
       "version_minor": 0
      },
      "text/plain": [
       "HBox(children=(FloatProgress(value=0.0, max=15.0), HTML(value='')))"
      ]
     },
     "metadata": {},
     "output_type": "display_data"
    },
    {
     "name": "stdout",
     "output_type": "stream",
     "text": [
      "\n"
     ]
    }
   ],
   "source": [
    "als_model.fit(csr_data_transpose)"
   ]
  },
  {
   "cell_type": "markdown",
   "metadata": {},
   "source": [
    "---\n",
    "## 7. 예측하기(유사도와 추천 시스템)"
   ]
  },
  {
   "cell_type": "code",
   "execution_count": 365,
   "metadata": {},
   "outputs": [],
   "source": [
    "# 훈련된 모델의 'Pulp Fiction'에 대한 나의 선호도\n",
    "\n",
    "jaejun, pulp_fiction = user_to_idx['jaejun'], title_to_idx['Pulp Fiction (1994)']\n",
    "jaejun_vector, pulp_fiction_vector = als_model.user_factors[jaejun], als_model.item_factors[pulp_fiction]\n"
   ]
  },
  {
   "cell_type": "code",
   "execution_count": 366,
   "metadata": {
    "scrolled": false
   },
   "outputs": [
    {
     "data": {
      "text/plain": [
       "array([-6.3750762e-01,  1.5729572e-01,  1.5576057e-01, -6.4920402e-01,\n",
       "        3.1274539e-01,  1.2658355e-01,  5.1774544e-01,  3.6915421e-01,\n",
       "        1.9011134e-01, -3.2875481e-01,  2.2255130e-02,  2.5365468e-02,\n",
       "        3.0746887e-02, -4.5040250e-01,  6.0563630e-01, -2.2376965e-01,\n",
       "       -6.4906144e-01,  6.0734558e-01,  5.4459304e-01, -2.7854785e-01,\n",
       "        4.5213568e-01, -3.8620564e-01,  7.1906561e-01,  4.0937206e-01,\n",
       "       -2.8772622e-01, -3.9738664e-01, -8.7080896e-02, -4.4144619e-01,\n",
       "       -3.1943813e-01, -3.3915791e-01, -2.4512449e-01, -2.5174552e-01,\n",
       "        9.6641846e-02, -3.5482538e-01,  1.0886110e+00,  5.2272803e-01,\n",
       "        9.4807988e-01,  5.4172838e-01,  6.3039768e-03,  1.1806062e-01,\n",
       "        4.3778715e-01,  3.8623175e-01,  4.2932090e-01, -4.4635242e-01,\n",
       "        6.3979045e-02, -7.2720297e-02,  3.6103335e-01,  6.6687125e-01,\n",
       "       -3.0740502e-01, -4.3498728e-04,  1.9571461e-01, -1.1866184e-01,\n",
       "        1.1065197e+00, -3.5893601e-01,  7.1721816e-01, -4.2659324e-01,\n",
       "        1.1823984e-01, -8.3915645e-01, -4.4091441e-02, -9.3709126e-02,\n",
       "       -5.7664996e-01, -4.5233256e-01,  9.3867189e-01, -1.8090798e-01,\n",
       "       -6.4637458e-01,  1.3370532e-01, -2.1052231e-01, -2.3318168e-02,\n",
       "        5.2075320e-01,  6.1540753e-01, -7.2395509e-01,  3.5856891e-01,\n",
       "        1.4356507e-01, -4.3110043e-01,  3.7235335e-01,  2.8444687e-01,\n",
       "       -5.6391113e-02, -3.4445398e-02,  7.1194816e-01, -4.9142143e-01,\n",
       "       -1.7993934e-01, -8.6741918e-01,  4.8680958e-01, -5.9801984e-01,\n",
       "        7.0273602e-01, -2.4214362e-01,  5.6871921e-01, -1.0458394e+00,\n",
       "        5.8219635e-01,  6.8783736e-01, -1.2877798e-01,  2.1363077e-01,\n",
       "       -1.2973355e-01, -4.9244058e-01,  6.0189283e-01, -2.5558665e-03,\n",
       "       -8.4861231e-01, -6.8969232e-01, -2.3931196e-01, -6.9049376e-01],\n",
       "      dtype=float32)"
      ]
     },
     "execution_count": 366,
     "metadata": {},
     "output_type": "execute_result"
    }
   ],
   "source": [
    "jaejun_vector"
   ]
  },
  {
   "cell_type": "code",
   "execution_count": 367,
   "metadata": {
    "scrolled": false
   },
   "outputs": [
    {
     "data": {
      "text/plain": [
       "array([-1.06083797e-02,  1.56023838e-02,  3.12704779e-02, -7.95278791e-03,\n",
       "        2.29360666e-02, -1.22917565e-02,  1.45677954e-03,  1.67540554e-02,\n",
       "        1.55338980e-02,  2.90414493e-04, -5.48677007e-03, -1.41052008e-02,\n",
       "        2.81863268e-02, -1.51066491e-02,  2.59489380e-03, -1.49718393e-03,\n",
       "        3.24621011e-04,  2.28444617e-02, -8.40611011e-03, -3.35086905e-03,\n",
       "        2.84078475e-02, -4.97149862e-03,  1.47782033e-02,  7.51445582e-03,\n",
       "       -1.09169887e-04,  2.06013955e-02, -2.70258100e-03,  1.86570932e-03,\n",
       "        1.19802530e-03, -1.57802198e-02, -5.85816288e-03, -4.70313057e-03,\n",
       "        1.33059975e-02, -6.74524531e-03,  4.14417610e-02, -6.68566581e-03,\n",
       "        2.05130577e-02,  3.99162956e-02,  1.86784510e-02, -2.16004625e-02,\n",
       "        1.22265527e-02,  2.78678793e-03,  3.47227901e-02,  1.54571636e-02,\n",
       "        1.03686014e-02, -6.65899273e-03,  1.48977004e-02,  1.84527952e-02,\n",
       "        5.38959866e-03, -1.40749873e-03,  1.49683449e-02,  1.96132660e-02,\n",
       "        4.45742868e-02, -1.60889889e-04,  1.79783292e-02,  1.59197599e-02,\n",
       "        5.34844352e-03,  1.51917257e-03,  6.45639002e-03,  2.64609745e-03,\n",
       "       -5.40779578e-03, -2.12893449e-02,  2.82952301e-02,  7.03853182e-03,\n",
       "       -1.98714714e-02,  7.85653852e-03, -1.77894738e-02,  1.32174380e-02,\n",
       "       -6.26566834e-05,  1.79494210e-02, -2.06069350e-02,  1.32711586e-02,\n",
       "        2.51771100e-02, -6.65700482e-03,  1.73756443e-02,  2.23801248e-02,\n",
       "        2.74899416e-02, -1.03336787e-02,  3.10946610e-02,  1.27965938e-02,\n",
       "       -1.53867891e-02, -1.33814504e-02,  2.48474218e-02, -2.09551845e-02,\n",
       "        2.84909569e-02,  2.23461948e-02,  2.24739667e-02, -6.23687054e-04,\n",
       "        4.56996039e-02,  2.11170316e-02, -3.03584442e-04,  2.33624540e-02,\n",
       "        1.01826247e-02,  2.39320332e-03,  2.05047075e-02,  2.03087293e-02,\n",
       "       -1.33318501e-02, -2.93721836e-02,  2.53019040e-03, -1.19901801e-04],\n",
       "      dtype=float32)"
      ]
     },
     "execution_count": 367,
     "metadata": {},
     "output_type": "execute_result"
    }
   ],
   "source": [
    "pulp_fiction_vector"
   ]
  },
  {
   "cell_type": "code",
   "execution_count": 368,
   "metadata": {},
   "outputs": [
    {
     "data": {
      "text/plain": [
       "0.5256353"
      ]
     },
     "execution_count": 368,
     "metadata": {},
     "output_type": "execute_result"
    }
   ],
   "source": [
    "# jaejun과  pulp fiction을 내적하는 코드\n",
    "np.dot(jaejun_vector, pulp_fiction_vector)"
   ]
  },
  {
   "cell_type": "markdown",
   "metadata": {},
   "source": [
    "**7-1. pred_score() 함수를 만들어 보자.**"
   ]
  },
  {
   "cell_type": "code",
   "execution_count": 375,
   "metadata": {},
   "outputs": [
    {
     "data": {
      "text/plain": [
       "0.09149716"
      ]
     },
     "execution_count": 375,
     "metadata": {},
     "output_type": "execute_result"
    }
   ],
   "source": [
    "def pred_score(user, title):\n",
    "    user_vector, title_vector = als_model.user_factors[user_to_idx[user]], als_model.item_factors[title_to_idx[title]] \n",
    "    return np.dot(user_vector, title_vector)\n",
    "\n",
    "pred_score('jaejun', 'Cool Runnings (1993)')\n",
    "\n",
    "# 'American Beauty (1999)'    # 0.6310682\n",
    "# 'Pulp Fiction (1994)'     # 0.5256353\n",
    "# 'High Fidelity (2000)'    # 0.48079643\n",
    "# 'Seven (Se7en) (1995)'    # 0.369011\n",
    "# 'Cool Runnings (1993)'    # 0.09149716"
   ]
  },
  {
   "cell_type": "code",
   "execution_count": 377,
   "metadata": {},
   "outputs": [
    {
     "data": {
      "text/plain": [
       "-0.0151108345"
      ]
     },
     "execution_count": 377,
     "metadata": {},
     "output_type": "execute_result"
    }
   ],
   "source": [
    "pred_score('jaejun', 'Back to the Future (1985)')"
   ]
  },
  {
   "cell_type": "code",
   "execution_count": 387,
   "metadata": {},
   "outputs": [
    {
     "data": {
      "text/plain": [
       "-0.03026654"
      ]
     },
     "execution_count": 387,
     "metadata": {},
     "output_type": "execute_result"
    }
   ],
   "source": [
    "pred_score('jaejun', 'Toy Story (1995)')"
   ]
  },
  {
   "cell_type": "code",
   "execution_count": 386,
   "metadata": {},
   "outputs": [
    {
     "data": {
      "text/plain": [
       "0.07707428"
      ]
     },
     "execution_count": 386,
     "metadata": {},
     "output_type": "execute_result"
    }
   ],
   "source": [
    "pred_score('jaejun', 'Rear Window (1954)')"
   ]
  },
  {
   "cell_type": "markdown",
   "metadata": {},
   "source": [
    "**7-2. 선호하는 영화와 비슷한 영화 찾기**"
   ]
  },
  {
   "cell_type": "code",
   "execution_count": 389,
   "metadata": {},
   "outputs": [
    {
     "data": {
      "text/plain": [
       "[(222, 1.0000002),\n",
       " (269, 0.86316997),\n",
       " (51, 0.80980706),\n",
       " (157, 0.74826723),\n",
       " (233, 0.74080235),\n",
       " (289, 0.67347294),\n",
       " (121, 0.6477973),\n",
       " (248, 0.5462768),\n",
       " (220, 0.51511365),\n",
       " (23, 0.49454662),\n",
       " (224, 0.49356827),\n",
       " (278, 0.4871033),\n",
       " (3601, 0.4562607),\n",
       " (59, 0.43256405),\n",
       " (472, 0.40605137)]"
      ]
     },
     "execution_count": 389,
     "metadata": {},
     "output_type": "execute_result"
    }
   ],
   "source": [
    "favorite_movie = title_to_idx['Pulp Fiction (1994)']\n",
    "similar_movie = als_model.similar_items(favorite_movie, N=15)\n",
    "similar_movie"
   ]
  },
  {
   "cell_type": "code",
   "execution_count": 390,
   "metadata": {},
   "outputs": [
    {
     "data": {
      "text/plain": [
       "['Pulp Fiction (1994)',\n",
       " 'GoodFellas (1990)',\n",
       " 'Fargo (1996)',\n",
       " 'Shawshank Redemption, The (1994)',\n",
       " 'Usual Suspects, The (1995)',\n",
       " 'Reservoir Dogs (1992)',\n",
       " 'Silence of the Lambs, The (1991)',\n",
       " 'Good Will Hunting (1997)',\n",
       " 'Seven (Se7en) (1995)',\n",
       " \"Schindler's List (1993)\",\n",
       " 'L.A. Confidential (1997)',\n",
       " 'Jackie Brown (1997)',\n",
       " 'Condition Red (1995)',\n",
       " 'Few Good Men, A (1992)',\n",
       " 'Sling Blade (1996)']"
      ]
     },
     "execution_count": 390,
     "metadata": {},
     "output_type": "execute_result"
    }
   ],
   "source": [
    "idx_to_title = {v:k for k,v in title_to_idx.items()}\n",
    "[idx_to_title[i[0]] for i in similar_movie]"
   ]
  },
  {
   "cell_type": "code",
   "execution_count": 398,
   "metadata": {},
   "outputs": [],
   "source": [
    "# 비슷한 영화 찾기 함수 만들기\n",
    "idx_to_title = {v:k for k,v in title_to_idx.items()}\n",
    "\n",
    "def find_similar_movie(title, N=10):\n",
    "    # 항상 첫번째 추천 영화는 입력한 영화와 같으므로 drop해준다.\n",
    "    similar_movie = als_model.similar_items(title_to_idx[title], N=N+1) \n",
    "    similar_movie = [(idx_to_title[i[0]],i[1]) for i in similar_movie]\n",
    "    return pd.DataFrame(similar_movie[1:], index=range(1,N+1), columns=['title', 'similarity']).merge(movies, how='left', on='title').drop(columns=['movie_id'])"
   ]
  },
  {
   "cell_type": "code",
   "execution_count": 399,
   "metadata": {},
   "outputs": [
    {
     "data": {
      "text/html": [
       "<div>\n",
       "<style scoped>\n",
       "    .dataframe tbody tr th:only-of-type {\n",
       "        vertical-align: middle;\n",
       "    }\n",
       "\n",
       "    .dataframe tbody tr th {\n",
       "        vertical-align: top;\n",
       "    }\n",
       "\n",
       "    .dataframe thead th {\n",
       "        text-align: right;\n",
       "    }\n",
       "</style>\n",
       "<table border=\"1\" class=\"dataframe\">\n",
       "  <thead>\n",
       "    <tr style=\"text-align: right;\">\n",
       "      <th></th>\n",
       "      <th>title</th>\n",
       "      <th>similarity</th>\n",
       "      <th>genre</th>\n",
       "    </tr>\n",
       "  </thead>\n",
       "  <tbody>\n",
       "    <tr>\n",
       "      <th>0</th>\n",
       "      <td>Reservoir Dogs (1992)</td>\n",
       "      <td>0.795948</td>\n",
       "      <td>Crime|Thriller</td>\n",
       "    </tr>\n",
       "    <tr>\n",
       "      <th>1</th>\n",
       "      <td>Usual Suspects, The (1995)</td>\n",
       "      <td>0.697006</td>\n",
       "      <td>Crime|Thriller</td>\n",
       "    </tr>\n",
       "    <tr>\n",
       "      <th>2</th>\n",
       "      <td>Simple Plan, A (1998)</td>\n",
       "      <td>0.636765</td>\n",
       "      <td>Crime|Thriller</td>\n",
       "    </tr>\n",
       "    <tr>\n",
       "      <th>3</th>\n",
       "      <td>Pulp Fiction (1994)</td>\n",
       "      <td>0.515114</td>\n",
       "      <td>Crime|Drama</td>\n",
       "    </tr>\n",
       "    <tr>\n",
       "      <th>4</th>\n",
       "      <td>Jackie Brown (1997)</td>\n",
       "      <td>0.502362</td>\n",
       "      <td>Crime|Drama</td>\n",
       "    </tr>\n",
       "    <tr>\n",
       "      <th>5</th>\n",
       "      <td>Heat (1995)</td>\n",
       "      <td>0.501912</td>\n",
       "      <td>Action|Crime|Thriller</td>\n",
       "    </tr>\n",
       "    <tr>\n",
       "      <th>6</th>\n",
       "      <td>Kiss the Girls (1997)</td>\n",
       "      <td>0.487928</td>\n",
       "      <td>Crime|Drama|Thriller</td>\n",
       "    </tr>\n",
       "    <tr>\n",
       "      <th>7</th>\n",
       "      <td>Lock, Stock &amp; Two Smoking Barrels (1998)</td>\n",
       "      <td>0.481184</td>\n",
       "      <td>Comedy|Crime|Thriller</td>\n",
       "    </tr>\n",
       "    <tr>\n",
       "      <th>8</th>\n",
       "      <td>Casino (1995)</td>\n",
       "      <td>0.466745</td>\n",
       "      <td>Drama|Thriller</td>\n",
       "    </tr>\n",
       "    <tr>\n",
       "      <th>9</th>\n",
       "      <td>Professional, The (a.k.a. Leon: The Profession...</td>\n",
       "      <td>0.464181</td>\n",
       "      <td>Crime|Drama|Romance|Thriller</td>\n",
       "    </tr>\n",
       "  </tbody>\n",
       "</table>\n",
       "</div>"
      ],
      "text/plain": [
       "                                               title  similarity  \\\n",
       "0                              Reservoir Dogs (1992)    0.795948   \n",
       "1                         Usual Suspects, The (1995)    0.697006   \n",
       "2                              Simple Plan, A (1998)    0.636765   \n",
       "3                                Pulp Fiction (1994)    0.515114   \n",
       "4                                Jackie Brown (1997)    0.502362   \n",
       "5                                        Heat (1995)    0.501912   \n",
       "6                              Kiss the Girls (1997)    0.487928   \n",
       "7           Lock, Stock & Two Smoking Barrels (1998)    0.481184   \n",
       "8                                      Casino (1995)    0.466745   \n",
       "9  Professional, The (a.k.a. Leon: The Profession...    0.464181   \n",
       "\n",
       "                          genre  \n",
       "0                Crime|Thriller  \n",
       "1                Crime|Thriller  \n",
       "2                Crime|Thriller  \n",
       "3                   Crime|Drama  \n",
       "4                   Crime|Drama  \n",
       "5         Action|Crime|Thriller  \n",
       "6          Crime|Drama|Thriller  \n",
       "7         Comedy|Crime|Thriller  \n",
       "8                Drama|Thriller  \n",
       "9  Crime|Drama|Romance|Thriller  "
      ]
     },
     "execution_count": 399,
     "metadata": {},
     "output_type": "execute_result"
    }
   ],
   "source": [
    "find_similar_movie('Seven (Se7en) (1995)')"
   ]
  },
  {
   "cell_type": "code",
   "execution_count": null,
   "metadata": {},
   "outputs": [],
   "source": []
  }
 ],
 "metadata": {
  "kernelspec": {
   "display_name": "aiffel",
   "language": "python",
   "name": "aiffel"
  },
  "language_info": {
   "codemirror_mode": {
    "name": "ipython",
    "version": 3
   },
   "file_extension": ".py",
   "mimetype": "text/x-python",
   "name": "python",
   "nbconvert_exporter": "python",
   "pygments_lexer": "ipython3",
   "version": "3.7.8"
  }
 },
 "nbformat": 4,
 "nbformat_minor": 4
}
